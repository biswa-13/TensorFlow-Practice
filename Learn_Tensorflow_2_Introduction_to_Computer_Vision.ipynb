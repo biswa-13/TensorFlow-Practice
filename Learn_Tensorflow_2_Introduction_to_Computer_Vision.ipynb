{
  "nbformat": 4,
  "nbformat_minor": 0,
  "metadata": {
    "colab": {
      "name": "Learn Tensorflow 2: Introduction to Computer Vision.ipynb",
      "version": "0.3.2",
      "provenance": [],
      "collapsed_sections": []
    },
    "kernelspec": {
      "name": "python3",
      "display_name": "Python 3"
    },
    "accelerator": "TPU"
  },
  "cells": [
    {
      "cell_type": "code",
      "metadata": {
        "id": "APBK5einfrap",
        "colab_type": "code",
        "outputId": "7256d719-422e-4b76-d8db-8ce372343253",
        "colab": {
          "base_uri": "https://localhost:8080/",
          "height": 473
        }
      },
      "source": [
        "# reference : https://codelabs.developers.google.com/codelabs/tensorflow-lab2-computervision/index.html?index=..%2F..index#0\n",
        "\n",
        "# importing packages\n",
        "import tensorflow as tf\n",
        "from tensorflow import keras\n",
        "import numpy as np\n",
        "import matplotlib.pyplot as plt\n",
        "# collecting dataset (Fashion MNIST dataset is already there availble with keras)\n",
        "fmnist = tf.keras.datasets.fashion_mnist\n",
        "\n",
        "# Preparing training data and testing data, Calling load_data on this object gives you two sets of \n",
        "# two lists: training values and testing values that represent graphics that show clothing items and their labels.\n",
        "\n",
        "(training_img, training_label),(testing_img, testing_label) = fmnist.load_data()\n",
        "\n",
        "# optional steps, for seeing a sample from the dataset\n",
        "plt.imshow(training_img[9])\n",
        "print(training_label[9])\n",
        "\n",
        "# noramalizing the datasets\n",
        "training_img = training_img/255.0\n",
        "testing_img = testing_img/255.0\n",
        "\n",
        "# initializing a model with 3 layers\n",
        "model = tf.keras.models.Sequential(\n",
        "    [\n",
        "      tf.keras.layers.Flatten(),\n",
        "      tf.keras.layers.Dense(128, activation=tf.nn.relu),\n",
        "      tf.keras.layers.Dense(10,  activation=tf.nn.softmax)\n",
        "    ]\n",
        ")\n",
        "\n",
        "# compiling the model\n",
        "model.compile(\n",
        "    optimizer = tf.train.AdamOptimizer(),\n",
        "    loss = 'sparse_categorical_crossentropy',\n",
        "    metrics = ['accuracy']\n",
        ")\n",
        "\n",
        "# training the model\n",
        "model.fit(\n",
        "    training_img,\n",
        "    training_label,\n",
        "    epochs = 5\n",
        ")\n"
      ],
      "execution_count": 0,
      "outputs": [
        {
          "output_type": "stream",
          "text": [
            "5\n",
            "Epoch 1/5\n",
            "60000/60000 [==============================] - 5s 91us/sample - loss: 0.5010 - acc: 0.8237\n",
            "Epoch 2/5\n",
            "60000/60000 [==============================] - 4s 73us/sample - loss: 0.3758 - acc: 0.8640\n",
            "Epoch 3/5\n",
            "60000/60000 [==============================] - 4s 73us/sample - loss: 0.3391 - acc: 0.8768\n",
            "Epoch 4/5\n",
            "60000/60000 [==============================] - 4s 71us/sample - loss: 0.3135 - acc: 0.8847\n",
            "Epoch 5/5\n",
            "60000/60000 [==============================] - 4s 70us/sample - loss: 0.2950 - acc: 0.8907\n"
          ],
          "name": "stdout"
        },
        {
          "output_type": "execute_result",
          "data": {
            "text/plain": [
              "<tensorflow.python.keras.callbacks.History at 0x7f4ffc256ef0>"
            ]
          },
          "metadata": {
            "tags": []
          },
          "execution_count": 2
        },
        {
          "output_type": "display_data",
          "data": {
            "image/png": "[encoded data removed]",
            "text/plain": [
              "<Figure size 432x288 with 1 Axes>"
            ]
          },
          "metadata": {
            "tags": []
          }
        }
      ]
    },
    {
      "cell_type": "code",
      "metadata": {
        "id": "UWF76-q3piN3",
        "colab_type": "code",
        "outputId": "6fc99620-6f81-4756-c347-8bbd09d781f8",
        "colab": {
          "base_uri": "https://localhost:8080/",
          "height": 51
        }
      },
      "source": [
        "# evaluating the model\n",
        "model.evaluate(testing_img, testing_label)"
      ],
      "execution_count": 0,
      "outputs": [
        {
          "output_type": "stream",
          "text": [
            "10000/10000 [==============================] - 0s 38us/sample - loss: 0.3496 - acc: 0.8717\n"
          ],
          "name": "stdout"
        },
        {
          "output_type": "execute_result",
          "data": {
            "text/plain": [
              "[0.349597120141983, 0.8717]"
            ]
          },
          "metadata": {
            "tags": []
          },
          "execution_count": 3
        }
      ]
    }
  ]
}