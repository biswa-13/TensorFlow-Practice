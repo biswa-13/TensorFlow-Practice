{
  "nbformat": 4,
  "nbformat_minor": 0,
  "metadata": {
    "colab": {
      "name": "TF8 Tensorflow Lite Step By Step Demostration.ipynb",
      "provenance": [],
      "collapsed_sections": [],
      "authorship_tag": "ABX9TyPQbZupRyve4htj+POqwtYC",
      "include_colab_link": true
    },
    "kernelspec": {
      "name": "python3",
      "display_name": "Python 3"
    },
    "accelerator": "GPU"
  },
  "cells": [
    {
      "cell_type": "markdown",
      "metadata": {
        "id": "view-in-github",
        "colab_type": "text"
      },
      "source": [
        "<a href=\"https://colab.research.google.com/github/biswa-13/TensorFlow-Practice/blob/master/TF8_Tensorflow_Lite_Step_By_Step_Demostration.ipynb\" target=\"_parent\"><img src=\"https://colab.research.google.com/assets/colab-badge.svg\" alt=\"Open In Colab\"/></a>"
      ]
    },
    {
      "cell_type": "markdown",
      "metadata": {
        "id": "xAgbFfe8dmTx",
        "colab_type": "text"
      },
      "source": [
        "Steps to be followed for coverting a model into a tensorflow lite model which can be deployed to the mobile/IOT devices\n",
        "\n",
        "\n",
        "*   Build a model\n",
        "*   Save the model using the save_model.save()\n",
        "*   Load the model\n",
        "*   initilize the model for tflite\n",
        "*   optimize the model\n",
        "*   Quantize the model using the representative dataset\n",
        "** for quantization we need a representative data generatore function\n",
        "*   Restricting the model operations\n",
        "*   Convert the model into the tensorflow lite\n",
        "*   Test the new model\n",
        "\n",
        "References\n",
        "\n",
        "\n",
        "*   https://colab.research.google.com/github/tensorflow/examples/blob/master/courses/udacity_intro_to_tensorflow_lite/tflite_c01_linear_regression.ipynb#scrollTo=FOAIMETeJmkc\n",
        "\n",
        "\n",
        "*  https://colab.research.google.com/github/tensorflow/examples/blob/master/courses/udacity_intro_to_tensorflow_lite/tflite_c02_transfer_learning.ipynb#scrollTo=FlsEcKVeuCnf\n",
        "\n",
        "\n",
        "\n",
        "\n"
      ]
    },
    {
      "cell_type": "code",
      "metadata": {
        "id": "WRZ5o0YRTMNc",
        "colab_type": "code",
        "colab": {
          "base_uri": "https://localhost:8080/",
          "height": 34
        },
        "outputId": "ec50b543-3af0-478d-b6f4-ffd397982646"
      },
      "source": [
        "# - import required libraries\n",
        "import tensorflow as tf\n",
        "import tensorflow_datasets as tfds\n",
        "import tensorflow_hub as hub\n",
        "import pathlib\n",
        "import matplotlib.pyplot as plt\n",
        "import numpy as np\n",
        "\n",
        "dataset_name = \"cats_vs_dogs\"\n",
        "epochs = 6\n",
        "batch_size = 32\n",
        "img_size = 224\n",
        "model_url = \"https://tfhub.dev/google/tf2-preview/inception_v3/feature_vector/4\"\n",
        "\n",
        "print(\"Finish - import required libraries\")"
      ],
      "execution_count": 2,
      "outputs": [
        {
          "output_type": "stream",
          "text": [
            "Finish - import required libraries\n"
          ],
          "name": "stdout"
        }
      ]
    },
    {
      "cell_type": "code",
      "metadata": {
        "id": "ydrLG8n9nYHB",
        "colab_type": "code",
        "colab": {
          "base_uri": "https://localhost:8080/",
          "height": 547
        },
        "outputId": "84080ebe-67d7-400f-b3ed-27b21436246b"
      },
      "source": [
        "# downlaod the dataset and separate the training set, validation set & testing set\n",
        "(dataset_train, dataset_val, dataset_test), datset_info = tfds.load(dataset_name, split=['train[:80%]', 'train[80%:90%]', 'train[90%:]'], as_supervised = True, with_info=True)\n",
        "print(\"dataset_info -->\\n\", datset_info)\n",
        "\n",
        "print(\"Finish - downlaod the dataset and separate the training set, validation set & testing set\")"
      ],
      "execution_count": 53,
      "outputs": [
        {
          "output_type": "stream",
          "text": [
            "dataset_info -->\n",
            " tfds.core.DatasetInfo(\n",
            "    name='cats_vs_dogs',\n",
            "    version=4.0.0,\n",
            "    description='A large set of images of cats and dogs.There are 1738 corrupted images that are dropped.',\n",
            "    homepage='https://www.microsoft.com/en-us/download/details.aspx?id=54765',\n",
            "    features=FeaturesDict({\n",
            "        'image': Image(shape=(None, None, 3), dtype=tf.uint8),\n",
            "        'image/filename': Text(shape=(), dtype=tf.string),\n",
            "        'label': ClassLabel(shape=(), dtype=tf.int64, num_classes=2),\n",
            "    }),\n",
            "    total_num_examples=23262,\n",
            "    splits={\n",
            "        'train': 23262,\n",
            "    },\n",
            "    supervised_keys=('image', 'label'),\n",
            "    citation=\"\"\"@Inproceedings (Conference){asirra-a-captcha-that-exploits-interest-aligned-manual-image-categorization,\n",
            "    author = {Elson, Jeremy and Douceur, John (JD) and Howell, Jon and Saul, Jared},\n",
            "    title = {Asirra: A CAPTCHA that Exploits Interest-Aligned Manual Image Categorization},\n",
            "    booktitle = {Proceedings of 14th ACM Conference on Computer and Communications Security (CCS)},\n",
            "    year = {2007},\n",
            "    month = {October},\n",
            "    publisher = {Association for Computing Machinery, Inc.},\n",
            "    url = {https://www.microsoft.com/en-us/research/publication/asirra-a-captcha-that-exploits-interest-aligned-manual-image-categorization/},\n",
            "    edition = {Proceedings of 14th ACM Conference on Computer and Communications Security (CCS)},\n",
            "    }\"\"\",\n",
            "    redistribution_info=,\n",
            ")\n",
            "\n",
            "Finish - downlaod the dataset and separate the training set, validation set & testing set\n"
          ],
          "name": "stdout"
        }
      ]
    },
    {
      "cell_type": "code",
      "metadata": {
        "id": "FGrPnfHhooyO",
        "colab_type": "code",
        "colab": {}
      },
      "source": [
        "# building a function to format the images as required by the model\n",
        "def format_images(image,  label):\n",
        "  image = tf.image.resize(image, (img_size, img_size))/255.0\n",
        "  return image, label\n"
      ],
      "execution_count": 0,
      "outputs": []
    },
    {
      "cell_type": "code",
      "metadata": {
        "id": "ffq_eyjhpdV8",
        "colab_type": "code",
        "colab": {
          "base_uri": "https://localhost:8080/",
          "height": 34
        },
        "outputId": "f232dab7-6d57-484e-fd42-85ee8b1b43eb"
      },
      "source": [
        "# formating the datasets to fit into the tensorflow\n",
        "\n",
        "dataset_train_formated = dataset_train.shuffle(2000).map(format_images).batch(batch_size).prefetch(1)\n",
        "dataset_val_formated = dataset_val.map(format_images).batch(batch_size).prefetch(1)\n",
        "dataset_test_formated = dataset_test.map(format_images).batch(1)\n",
        "\n",
        "print(\"Finish - formating the datasets to fit into the tensorflow\")"
      ],
      "execution_count": 46,
      "outputs": [
        {
          "output_type": "stream",
          "text": [
            "Finish - formating the datasets to fit into the tensorflow\n"
          ],
          "name": "stdout"
        }
      ]
    },
    {
      "cell_type": "code",
      "metadata": {
        "id": "XANLEQf7rYLf",
        "colab_type": "code",
        "colab": {
          "base_uri": "https://localhost:8080/",
          "height": 34
        },
        "outputId": "013371ca-7622-430a-bd89-d0a5ac6ba511"
      },
      "source": [
        "# load the pre-trained model\n",
        "feature_layer = hub.KerasLayer(model_url, input_shape=(img_size, img_size, 3))\n",
        "feature_layer.trainable = False\n",
        "\n",
        "print(\"Finish - load the pre-trained model\")"
      ],
      "execution_count": 33,
      "outputs": [
        {
          "output_type": "stream",
          "text": [
            "Finish - load the pre-trained model\n"
          ],
          "name": "stdout"
        }
      ]
    },
    {
      "cell_type": "code",
      "metadata": {
        "id": "YU9mO0ZRtDid",
        "colab_type": "code",
        "colab": {
          "base_uri": "https://localhost:8080/",
          "height": 238
        },
        "outputId": "74ec91d4-6aef-4829-e574-29b6cb23e545"
      },
      "source": [
        "# updating the dense layer of the model and building the the model\n",
        "dataset_classes = datset_info.features['label'].num_classes\n",
        "dataset_labels = datset_info.features['label'].names\n",
        "model = tf.keras.Sequential([\n",
        "                             feature_layer,\n",
        "                             tf.keras.layers.Dense(dataset_classes)\n",
        "])\n",
        "\n",
        "# compiling the model\n",
        "model.compile(loss=tf.losses.SparseCategoricalCrossentropy(from_logits=True), optimizer=\"adam\", metrics=[\"accuracy\"])\n",
        "model.summary()\n",
        "print(\"Finish building & compiling the model\")"
      ],
      "execution_count": 34,
      "outputs": [
        {
          "output_type": "stream",
          "text": [
            "Model: \"sequential_2\"\n",
            "_________________________________________________________________\n",
            "Layer (type)                 Output Shape              Param #   \n",
            "=================================================================\n",
            "keras_layer_3 (KerasLayer)   (None, 2048)              21802784  \n",
            "_________________________________________________________________\n",
            "dense_2 (Dense)              (None, 2)                 4098      \n",
            "=================================================================\n",
            "Total params: 21,806,882\n",
            "Trainable params: 4,098\n",
            "Non-trainable params: 21,802,784\n",
            "_________________________________________________________________\n",
            "Finish building & compiling the model\n"
          ],
          "name": "stdout"
        }
      ]
    },
    {
      "cell_type": "code",
      "metadata": {
        "id": "6VLV-VTexsAw",
        "colab_type": "code",
        "colab": {
          "base_uri": "https://localhost:8080/",
          "height": 258
        },
        "outputId": "0cab6d13-4da4-4fe2-8d9a-a1aef24da8cb"
      },
      "source": [
        "# training the model\n",
        "history = model.fit(dataset_train_formated, epochs= epochs, validation_data= dataset_val_formated)\n",
        "\n",
        "print(\"Finish training the model\")"
      ],
      "execution_count": 35,
      "outputs": [
        {
          "output_type": "stream",
          "text": [
            "Epoch 1/6\n",
            "582/582 [==============================] - 115s 198ms/step - loss: 0.0514 - accuracy: 0.9832 - val_loss: 0.0229 - val_accuracy: 0.9914\n",
            "Epoch 2/6\n",
            "582/582 [==============================] - 110s 189ms/step - loss: 0.0295 - accuracy: 0.9901 - val_loss: 0.0207 - val_accuracy: 0.9927\n",
            "Epoch 3/6\n",
            "582/582 [==============================] - 113s 194ms/step - loss: 0.0258 - accuracy: 0.9915 - val_loss: 0.0314 - val_accuracy: 0.9893\n",
            "Epoch 4/6\n",
            "582/582 [==============================] - 110s 190ms/step - loss: 0.0240 - accuracy: 0.9925 - val_loss: 0.0303 - val_accuracy: 0.9893\n",
            "Epoch 5/6\n",
            "582/582 [==============================] - 113s 194ms/step - loss: 0.0183 - accuracy: 0.9940 - val_loss: 0.0275 - val_accuracy: 0.9901\n",
            "Epoch 6/6\n",
            "582/582 [==============================] - 113s 194ms/step - loss: 0.0182 - accuracy: 0.9937 - val_loss: 0.0280 - val_accuracy: 0.9901\n",
            "Finish training the model\n"
          ],
          "name": "stdout"
        }
      ]
    },
    {
      "cell_type": "code",
      "metadata": {
        "id": "jFwoNT9m0XWd",
        "colab_type": "code",
        "colab": {
          "base_uri": "https://localhost:8080/",
          "height": 541
        },
        "outputId": "cdbadb5c-9723-416b-8a4c-2dc2d806a831"
      },
      "source": [
        "# plotting the model training graph\n",
        "def plot_graph(history, string):\n",
        "  plt.plot(history.history[string])\n",
        "  plt.plot(history.history[\"val_\"+string])\n",
        "  plt.xlabel(\"epochs\")\n",
        "  plt.ylabel(string)\n",
        "  plt.legend([string, \"val_\"+string])\n",
        "  plt.show()\n",
        "\n",
        "plot_graph(history, \"accuracy\")\n",
        "plot_graph(history, \"loss\")"
      ],
      "execution_count": 36,
      "outputs": [
        {
          "output_type": "display_data",
          "data": {
            "image/png": "[encoded data removed]",
            "text/plain": [
              "<Figure size 432x288 with 1 Axes>"
            ]
          },
          "metadata": {
            "tags": [],
            "needs_background": "light"
          }
        },
        {
          "output_type": "display_data",
          "data": {
            "image/png": "[encoded data removed]",
            "text/plain": [
              "<Figure size 432x288 with 1 Axes>"
            ]
          },
          "metadata": {
            "tags": [],
            "needs_background": "light"
          }
        }
      ]
    },
    {
      "cell_type": "code",
      "metadata": {
        "id": "1KfOA1ulya7i",
        "colab_type": "code",
        "colab": {
          "base_uri": "https://localhost:8080/",
          "height": 51
        },
        "outputId": "005c6a21-4ead-4ae3-e741-998a0ce100cc"
      },
      "source": [
        "# # exporting the model\n",
        "model_name = \"cat_dog_classifier_saved_model\"\n",
        "tf.saved_model.save(model, model_name)\n"
      ],
      "execution_count": 37,
      "outputs": [
        {
          "output_type": "stream",
          "text": [
            "INFO:tensorflow:Assets written to: cat_dog_classifier_saved_model/assets\n"
          ],
          "name": "stdout"
        },
        {
          "output_type": "stream",
          "text": [
            "INFO:tensorflow:Assets written to: cat_dog_classifier_saved_model/assets\n"
          ],
          "name": "stderr"
        }
      ]
    },
    {
      "cell_type": "code",
      "metadata": {
        "id": "bJ9QkQx08Wkr",
        "colab_type": "code",
        "colab": {}
      },
      "source": [
        "# %%bash -s $model_name\n",
        "# saved_model_cli show --dir $1 --tag_set serve --signature_def serving_default\n",
        "\n",
        "# %%bash -s $CATS_VS_DOGS_SAVED_MODEL\n",
        "# saved_model_cli show --dir $1 --tag_set serve --signature_def serving_default"
      ],
      "execution_count": 0,
      "outputs": []
    },
    {
      "cell_type": "code",
      "metadata": {
        "id": "C_AgTEH2HO-Y",
        "colab_type": "code",
        "colab": {}
      },
      "source": [
        "# # load the model\n",
        "existing_model = tf.saved_model.load(model_name)"
      ],
      "execution_count": 0,
      "outputs": []
    },
    {
      "cell_type": "code",
      "metadata": {
        "id": "QRkHIP4UHTBG",
        "colab_type": "code",
        "colab": {}
      },
      "source": [
        "# print(list(loaded.signatures.keys()))\n",
        "# infer = loaded.signatures[\"serving_default\"]\n",
        "# print(infer.structured_input_signature)\n",
        "# print(infer.structured_outputs)"
      ],
      "execution_count": 0,
      "outputs": []
    },
    {
      "cell_type": "code",
      "metadata": {
        "id": "p6cvBIO82LwM",
        "colab_type": "code",
        "colab": {}
      },
      "source": [
        "# defining a generator function which will generate the representational data for the tflite model\n",
        "\n",
        "def data_generator():\n",
        "  for input_data, _ in dataset_test_formated.take(100):\n",
        "    yield [input_data]\n",
        "    "
      ],
      "execution_count": 0,
      "outputs": []
    },
    {
      "cell_type": "code",
      "metadata": {
        "id": "wzbORnpp3h6S",
        "colab_type": "code",
        "colab": {}
      },
      "source": [
        "# # initialize the tflite conversion process\n",
        "\n",
        "converter = tf.lite.TFLiteConverter.from_saved_model(model_name)\n",
        "\n",
        "# # # optimizing the model\n",
        "converter.optimizations = [tf.lite.Optimize.DEFAULT]\n",
        "\n",
        "# # # quantizing the model using the representative dataset\n",
        "converter.representative_dataset = data_generator\n",
        "\n",
        "# # restricting the model operations for fully integer point operations\n",
        "converter.target_spec.supported_ops = [tf.lite.OpsSet.TFLITE_BUILTINS_INT8]\n",
        "# converter.allow_custom_ops = [tf.lite.OpsSet.TFLITE_BUILTINS_INT8]\n",
        "\n",
        "# # finally convert the model\n",
        "converted_tflite_model = converter.convert()\n",
        "\n",
        "# #  save the model into the disk\n",
        "open(tflite_converted_file, 'wb').write(converted_tflite_model)"
      ],
      "execution_count": 0,
      "outputs": []
    },
    {
      "cell_type": "code",
      "metadata": {
        "id": "k-5din4yVM_6",
        "colab_type": "code",
        "colab": {
          "base_uri": "https://localhost:8080/",
          "height": 34
        },
        "outputId": "84ccfc11-5965-4f2c-b6b8-2744ae867f4a"
      },
      "source": [
        "\n",
        "tflite_converted_file = \"cat_dog_tflite_model.tflite\"\n",
        "\n",
        "\n",
        "# create the labels.txt\n",
        "labels = ['cat', 'dog']\n",
        "\n",
        "with open('labels.txt', 'w') as f:\n",
        "  f.write('\\n'.join(labels))\n",
        "\n",
        "# download the model and label.txt for future use\n",
        "try:\n",
        "  from google.colab import files\n",
        "  files.download('cat_dog_tflite_model.tflite')\n",
        "  files.download('labels.txt')\n",
        "except:\n",
        "  pass\n",
        "\n",
        "print(\"Finish - conversion of the model to the tflite model\")\n"
      ],
      "execution_count": 13,
      "outputs": [
        {
          "output_type": "stream",
          "text": [
            "Finish - conversion of the model to the tflite model\n"
          ],
          "name": "stdout"
        }
      ]
    },
    {
      "cell_type": "code",
      "metadata": {
        "id": "LAo5JufVJ4Oa",
        "colab_type": "code",
        "colab": {
          "base_uri": "https://localhost:8080/",
          "height": 51
        },
        "outputId": "1bbc9492-1167-4082-f074-c30b434f9fb1"
      },
      "source": [
        "!pwd\n",
        "!ls"
      ],
      "execution_count": 11,
      "outputs": [
        {
          "output_type": "stream",
          "text": [
            "/content\n",
            "cat_dog_tflite_model.tflite  labels.txt  sample_data\n"
          ],
          "name": "stdout"
        }
      ]
    },
    {
      "cell_type": "code",
      "metadata": {
        "id": "dKCjM9Awlerj",
        "colab_type": "code",
        "colab": {
          "base_uri": "https://localhost:8080/",
          "height": 370
        },
        "outputId": "23f4e459-9d1d-4076-ea54-59fa4cfd2acc"
      },
      "source": [
        "# # Test the TFLite model using the Python Interpreter\n",
        "\n",
        "# ## load tflite model and allocate tensors\n",
        "# tflite_converted_file = \"cat_dog_tflite_model.tflite\"\n",
        "# interpretor = tf.lite.Interpreter(model_path=tflite_converted_file)\n",
        "# interpretor.allocate_tensors()\n",
        "\n",
        "# # get input & output tensors\n",
        "# input_index = interpreter.get_input_details()[0][\"index\"]\n",
        "# output_index = interpreter.get_output_details()[0][\"index\"]\n",
        "\n",
        "# # point the data to be testing and run the interpretor\n",
        "# interpretor.set_tensor()\n"
      ],
      "execution_count": 4,
      "outputs": [
        {
          "output_type": "error",
          "ename": "ValueError",
          "evalue": "ignored",
          "traceback": [
            "\u001b[0;31m---------------------------------------------------------------------------\u001b[0m",
            "\u001b[0;31mValueError\u001b[0m                                Traceback (most recent call last)",
            "\u001b[0;32m<ipython-input-4-251646fae56c>\u001b[0m in \u001b[0;36m<module>\u001b[0;34m()\u001b[0m\n\u001b[1;32m      3\u001b[0m \u001b[0;31m## load tflite model and allocate tensors\u001b[0m\u001b[0;34m\u001b[0m\u001b[0;34m\u001b[0m\u001b[0;34m\u001b[0m\u001b[0m\n\u001b[1;32m      4\u001b[0m \u001b[0mtflite_converted_file\u001b[0m \u001b[0;34m=\u001b[0m \u001b[0;34m\"cat_dog_tflite_model.tflite\"\u001b[0m\u001b[0;34m\u001b[0m\u001b[0;34m\u001b[0m\u001b[0m\n\u001b[0;32m----> 5\u001b[0;31m \u001b[0minterpretor\u001b[0m \u001b[0;34m=\u001b[0m \u001b[0mtf\u001b[0m\u001b[0;34m.\u001b[0m\u001b[0mlite\u001b[0m\u001b[0;34m.\u001b[0m\u001b[0mInterpreter\u001b[0m\u001b[0;34m(\u001b[0m\u001b[0mmodel_path\u001b[0m\u001b[0;34m=\u001b[0m\u001b[0mtflite_converted_file\u001b[0m\u001b[0;34m)\u001b[0m\u001b[0;34m\u001b[0m\u001b[0;34m\u001b[0m\u001b[0m\n\u001b[0m\u001b[1;32m      6\u001b[0m \u001b[0minterpretor\u001b[0m\u001b[0;34m.\u001b[0m\u001b[0mallocate_tensors\u001b[0m\u001b[0;34m(\u001b[0m\u001b[0;34m)\u001b[0m\u001b[0;34m\u001b[0m\u001b[0;34m\u001b[0m\u001b[0m\n\u001b[1;32m      7\u001b[0m \u001b[0;34m\u001b[0m\u001b[0m\n",
            "\u001b[0;32m/usr/local/lib/python3.6/dist-packages/tensorflow/lite/python/interpreter.py\u001b[0m in \u001b[0;36m__init__\u001b[0;34m(self, model_path, model_content, experimental_delegates)\u001b[0m\n\u001b[1;32m    202\u001b[0m       self._interpreter = (\n\u001b[1;32m    203\u001b[0m           _interpreter_wrapper.InterpreterWrapper_CreateWrapperCPPFromFile(\n\u001b[0;32m--> 204\u001b[0;31m               model_path, self._custom_op_registerers))\n\u001b[0m\u001b[1;32m    205\u001b[0m       \u001b[0;32mif\u001b[0m \u001b[0;32mnot\u001b[0m \u001b[0mself\u001b[0m\u001b[0;34m.\u001b[0m\u001b[0m_interpreter\u001b[0m\u001b[0;34m:\u001b[0m\u001b[0;34m\u001b[0m\u001b[0;34m\u001b[0m\u001b[0m\n\u001b[1;32m    206\u001b[0m         \u001b[0;32mraise\u001b[0m \u001b[0mValueError\u001b[0m\u001b[0;34m(\u001b[0m\u001b[0;34m'Failed to open {}'\u001b[0m\u001b[0;34m.\u001b[0m\u001b[0mformat\u001b[0m\u001b[0;34m(\u001b[0m\u001b[0mmodel_path\u001b[0m\u001b[0;34m)\u001b[0m\u001b[0;34m)\u001b[0m\u001b[0;34m\u001b[0m\u001b[0;34m\u001b[0m\u001b[0m\n",
            "\u001b[0;31mValueError\u001b[0m: Could not open 'cat_dog_tflite_model.tflite'."
          ]
        }
      ]
    }
  ]
}